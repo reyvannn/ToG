{
 "cells": [
  {
   "cell_type": "code",
   "id": "3a8bd5f9",
   "metadata": {
    "ExecuteTime": {
     "end_time": "2025-04-03T05:04:28.012308Z",
     "start_time": "2025-04-03T05:04:24.536185Z"
    }
   },
   "source": [
    "# check if venv is active\n",
    "!pip list"
   ],
   "outputs": [
    {
     "name": "stdout",
     "output_type": "stream",
     "text": [
      "Package                   Version\n",
      "------------------------- --------------\n",
      "annotated-types           0.7.0\n",
      "anyio                     4.9.0\n",
      "argon2-cffi               23.1.0\n",
      "argon2-cffi-bindings      21.2.0\n",
      "arrow                     1.3.0\n",
      "asttokens                 3.0.0\n",
      "async-lru                 2.0.5\n",
      "attrs                     25.3.0\n",
      "babel                     2.17.0\n",
      "beautifulsoup4            4.13.3\n",
      "bleach                    6.2.0\n",
      "certifi                   2025.1.31\n",
      "cffi                      1.17.1\n",
      "charset-normalizer        3.4.1\n",
      "colorama                  0.4.6\n",
      "comm                      0.2.2\n",
      "debugpy                   1.8.13\n",
      "decorator                 5.2.1\n",
      "defusedxml                0.7.1\n",
      "distro                    1.9.0\n",
      "executing                 2.2.0\n",
      "fastjsonschema            2.21.1\n",
      "filelock                  3.18.0\n",
      "fqdn                      1.5.1\n",
      "fsspec                    2025.3.0\n",
      "h11                       0.14.0\n",
      "httpcore                  1.0.7\n",
      "httpx                     0.28.1\n",
      "huggingface-hub           0.29.3\n",
      "idna                      3.10\n",
      "ipykernel                 6.29.5\n",
      "ipython                   9.0.2\n",
      "ipython_pygments_lexers   1.1.1\n",
      "ipywidgets                8.1.5\n",
      "isoduration               20.11.0\n",
      "jedi                      0.19.2\n",
      "Jinja2                    3.1.6\n",
      "jiter                     0.9.0\n",
      "joblib                    1.4.2\n",
      "json5                     0.10.0\n",
      "jsonlines                 4.0.0\n",
      "jsonpointer               3.0.0\n",
      "jsonschema                4.23.0\n",
      "jsonschema-specifications 2024.10.1\n",
      "jupyter                   1.1.1\n",
      "jupyter_client            8.6.3\n",
      "jupyter-console           6.6.3\n",
      "jupyter_core              5.7.2\n",
      "jupyter-events            0.12.0\n",
      "jupyter-lsp               2.2.5\n",
      "jupyter_server            2.15.0\n",
      "jupyter_server_terminals  0.5.3\n",
      "jupyterlab                4.3.6\n",
      "jupyterlab_pygments       0.3.0\n",
      "jupyterlab_server         2.27.3\n",
      "jupyterlab_widgets        3.0.13\n",
      "MarkupSafe                3.0.2\n",
      "matplotlib-inline         0.1.7\n",
      "mistune                   3.1.3\n",
      "mpmath                    1.3.0\n",
      "nbclient                  0.10.2\n",
      "nbconvert                 7.16.6\n",
      "nbformat                  5.10.4\n",
      "nest-asyncio              1.6.0\n",
      "networkx                  3.4.2\n",
      "notebook                  7.3.3\n",
      "notebook_shim             0.2.4\n",
      "numpy                     2.2.4\n",
      "openai                    1.68.2\n",
      "overrides                 7.7.0\n",
      "packaging                 24.2\n",
      "pandas                    2.2.3\n",
      "pandocfilters             1.5.1\n",
      "parso                     0.8.4\n",
      "pillow                    11.1.0\n",
      "pip                       23.2.1\n",
      "platformdirs              4.3.7\n",
      "prometheus_client         0.21.1\n",
      "prompt_toolkit            3.0.50\n",
      "psutil                    7.0.0\n",
      "pure_eval                 0.2.3\n",
      "pycparser                 2.22\n",
      "pydantic                  2.10.6\n",
      "pydantic_core             2.27.2\n",
      "Pygments                  2.19.1\n",
      "pyparsing                 3.2.2\n",
      "python-dateutil           2.9.0.post0\n",
      "python-json-logger        3.3.0\n",
      "pytz                      2025.2\n",
      "pywin32                   310\n",
      "pywinpty                  2.0.15\n",
      "PyYAML                    6.0.2\n",
      "pyzmq                     26.3.0\n",
      "rank-bm25                 0.2.2\n",
      "rdflib                    7.1.3\n",
      "referencing               0.36.2\n",
      "regex                     2024.11.6\n",
      "requests                  2.32.3\n",
      "rfc3339-validator         0.1.4\n",
      "rfc3986-validator         0.1.1\n",
      "rpds-py                   0.23.1\n",
      "safetensors               0.5.3\n",
      "scikit-learn              1.6.1\n",
      "scipy                     1.15.2\n",
      "Send2Trash                1.8.3\n",
      "sentence-transformers     3.4.1\n",
      "setuptools                68.2.0\n",
      "six                       1.17.0\n",
      "sniffio                   1.3.1\n",
      "soupsieve                 2.6\n",
      "SPARQLWrapper             2.0.0\n",
      "stack-data                0.6.3\n",
      "sympy                     1.13.1\n",
      "terminado                 0.18.1\n",
      "threadpoolctl             3.6.0\n",
      "tinycss2                  1.4.0\n",
      "tokenizers                0.21.1\n",
      "torch                     2.6.0\n",
      "tornado                   6.4.2\n",
      "tqdm                      4.67.1\n",
      "traitlets                 5.14.3\n",
      "transformers              4.50.0\n",
      "types-python-dateutil     2.9.0.20241206\n",
      "typing_extensions         4.12.2\n",
      "tzdata                    2025.2\n",
      "uri-template              1.3.0\n",
      "urllib3                   2.3.0\n",
      "wcwidth                   0.2.13\n",
      "webcolors                 24.11.1\n",
      "webencodings              0.5.1\n",
      "websocket-client          1.8.0\n",
      "wheel                     0.41.2\n",
      "widgetsnbextension        4.0.13\n"
     ]
    },
    {
     "name": "stderr",
     "output_type": "stream",
     "text": [
      "\n",
      "[notice] A new release of pip is available: 23.2.1 -> 25.0.1\n",
      "[notice] To update, run: python.exe -m pip install --upgrade pip\n"
     ]
    }
   ],
   "execution_count": 1
  },
  {
   "metadata": {
    "ExecuteTime": {
     "end_time": "2025-04-14T17:46:07.598897Z",
     "start_time": "2025-04-14T17:46:07.353652Z"
    }
   },
   "cell_type": "code",
   "source": [
    "import pandas as pd\n",
    "cwq = pd.read_json('data/WebQSP.json')\n",
    "mask = cwq['qid_topic_entity'].apply(lambda x: len(x) > 0)\n",
    "cwq_filtered = cwq[mask]\n",
    "\n",
    "# Select first n rows\n",
    "cwq_test = cwq_filtered.head(5)\n",
    "\n",
    "# Save to new JSON file\n",
    "# cwq_test.to_json('./data/cwq_test.json', orient='records', indent=4)\n",
    "cwq_filtered"
   ],
   "id": "cbfaa1b3e77d580b",
   "outputs": [
    {
     "data": {
      "text/plain": [
       "         QuestionId                                        RawQuestion  \\\n",
       "0     WebQTest-1198            who influenced samuel taylor coleridge?   \n",
       "1     WebQTest-1092  who did viggo mortensen play in lord of the ri...   \n",
       "2      WebQTest-713                  what county is st. louis park in?   \n",
       "3     WebQTest-1637                   what are the catholic holy days?   \n",
       "4     WebQTest-1241               where does the columbia river start?   \n",
       "...             ...                                                ...   \n",
       "1634  WebQTest-2020   what are the mountains in northern italy called?   \n",
       "1635  WebQTest-2024  in which state was the battle of antietam fought?   \n",
       "1636  WebQTest-2027  what team did david beckham play for before la...   \n",
       "1637  WebQTest-2029           where was the palace of knossos located?   \n",
       "1638  WebQTest-2031                  when was father chris riley born?   \n",
       "\n",
       "                                      ProcessedQuestion  \\\n",
       "0                who influenced samuel taylor coleridge   \n",
       "1     who did viggo mortensen play in lord of the rings   \n",
       "2                      what county is st. louis park in   \n",
       "3                       what are the catholic holy days   \n",
       "4                   where does the columbia river start   \n",
       "...                                                 ...   \n",
       "1634    what are the mountains in northern italy called   \n",
       "1635   in which state was the battle of antietam fought   \n",
       "1636  what team did david beckham play for before la...   \n",
       "1637            where was the palace of knossos located   \n",
       "1638                   when was father chris riley born   \n",
       "\n",
       "                                                 Parses  \\\n",
       "0     [{'ParseId': 'WebQTest-1198.P0', 'AnnotatorId'...   \n",
       "1     [{'ParseId': 'WebQTest-1092.P0', 'AnnotatorId'...   \n",
       "2     [{'ParseId': 'WebQTest-713.P0', 'AnnotatorId':...   \n",
       "3     [{'ParseId': 'WebQTest-1637.P0', 'AnnotatorId'...   \n",
       "4     [{'ParseId': 'WebQTest-1241.P0', 'AnnotatorId'...   \n",
       "...                                                 ...   \n",
       "1634  [{'ParseId': 'WebQTest-2020.P0', 'AnnotatorId'...   \n",
       "1635  [{'ParseId': 'WebQTest-2024.P0', 'AnnotatorId'...   \n",
       "1636  [{'ParseId': 'WebQTest-2027.P0', 'AnnotatorId'...   \n",
       "1637  [{'ParseId': 'WebQTest-2029.P0', 'AnnotatorId'...   \n",
       "1638  [{'ParseId': 'WebQTest-2031.P0', 'AnnotatorId'...   \n",
       "\n",
       "                                           topic_entity  \\\n",
       "0                {'m.078w2': 'Samuel Taylor Coleridge'}   \n",
       "1     {'m.01ps2h8': 'Viggo Mortensen', 'm.017gl1': '...   \n",
       "2                         {'m.0xdhj': 'St. Louis Park'}   \n",
       "3                           {'m.0c8wxp': 'Catholicism'}   \n",
       "4                         {'m.01n86': 'Columbia River'}   \n",
       "...                                                 ...   \n",
       "1634                 {'m.01cg88': 'Apennine Mountains'}   \n",
       "1635                  {'m.0lkxb': 'Battle of Antietam'}   \n",
       "1636                       {'m.02d9k': 'David Beckham'}   \n",
       "1637                             {'m.0ksnn': 'Knossos'}   \n",
       "1638                       {'m.03d8_d9': 'Chris Riley'}   \n",
       "\n",
       "                                       qid_topic_entity  \n",
       "0                 {'Q82409': 'Samuel Taylor Coleridge'}  \n",
       "1     {'Q171363': 'Viggo Mortensen', 'Q127367': 'The...  \n",
       "2                         {'Q988741': 'St. Louis Park'}  \n",
       "3                              {'Q1841': 'Catholicism'}  \n",
       "4                           {'Q2251': 'Columbia River'}  \n",
       "...                                                 ...  \n",
       "1634                    {'Q1285': 'Apennine Mountains'}  \n",
       "1635                  {'Q719252': 'Battle of Antietam'}  \n",
       "1636                        {'Q10520': 'David Beckham'}  \n",
       "1637                             {'Q173527': 'Knossos'}  \n",
       "1638                        {'Q5107872': 'Chris Riley'}  \n",
       "\n",
       "[1639 rows x 6 columns]"
      ],
      "text/html": [
       "<div>\n",
       "<style scoped>\n",
       "    .dataframe tbody tr th:only-of-type {\n",
       "        vertical-align: middle;\n",
       "    }\n",
       "\n",
       "    .dataframe tbody tr th {\n",
       "        vertical-align: top;\n",
       "    }\n",
       "\n",
       "    .dataframe thead th {\n",
       "        text-align: right;\n",
       "    }\n",
       "</style>\n",
       "<table border=\"1\" class=\"dataframe\">\n",
       "  <thead>\n",
       "    <tr style=\"text-align: right;\">\n",
       "      <th></th>\n",
       "      <th>QuestionId</th>\n",
       "      <th>RawQuestion</th>\n",
       "      <th>ProcessedQuestion</th>\n",
       "      <th>Parses</th>\n",
       "      <th>topic_entity</th>\n",
       "      <th>qid_topic_entity</th>\n",
       "    </tr>\n",
       "  </thead>\n",
       "  <tbody>\n",
       "    <tr>\n",
       "      <th>0</th>\n",
       "      <td>WebQTest-1198</td>\n",
       "      <td>who influenced samuel taylor coleridge?</td>\n",
       "      <td>who influenced samuel taylor coleridge</td>\n",
       "      <td>[{'ParseId': 'WebQTest-1198.P0', 'AnnotatorId'...</td>\n",
       "      <td>{'m.078w2': 'Samuel Taylor Coleridge'}</td>\n",
       "      <td>{'Q82409': 'Samuel Taylor Coleridge'}</td>\n",
       "    </tr>\n",
       "    <tr>\n",
       "      <th>1</th>\n",
       "      <td>WebQTest-1092</td>\n",
       "      <td>who did viggo mortensen play in lord of the ri...</td>\n",
       "      <td>who did viggo mortensen play in lord of the rings</td>\n",
       "      <td>[{'ParseId': 'WebQTest-1092.P0', 'AnnotatorId'...</td>\n",
       "      <td>{'m.01ps2h8': 'Viggo Mortensen', 'm.017gl1': '...</td>\n",
       "      <td>{'Q171363': 'Viggo Mortensen', 'Q127367': 'The...</td>\n",
       "    </tr>\n",
       "    <tr>\n",
       "      <th>2</th>\n",
       "      <td>WebQTest-713</td>\n",
       "      <td>what county is st. louis park in?</td>\n",
       "      <td>what county is st. louis park in</td>\n",
       "      <td>[{'ParseId': 'WebQTest-713.P0', 'AnnotatorId':...</td>\n",
       "      <td>{'m.0xdhj': 'St. Louis Park'}</td>\n",
       "      <td>{'Q988741': 'St. Louis Park'}</td>\n",
       "    </tr>\n",
       "    <tr>\n",
       "      <th>3</th>\n",
       "      <td>WebQTest-1637</td>\n",
       "      <td>what are the catholic holy days?</td>\n",
       "      <td>what are the catholic holy days</td>\n",
       "      <td>[{'ParseId': 'WebQTest-1637.P0', 'AnnotatorId'...</td>\n",
       "      <td>{'m.0c8wxp': 'Catholicism'}</td>\n",
       "      <td>{'Q1841': 'Catholicism'}</td>\n",
       "    </tr>\n",
       "    <tr>\n",
       "      <th>4</th>\n",
       "      <td>WebQTest-1241</td>\n",
       "      <td>where does the columbia river start?</td>\n",
       "      <td>where does the columbia river start</td>\n",
       "      <td>[{'ParseId': 'WebQTest-1241.P0', 'AnnotatorId'...</td>\n",
       "      <td>{'m.01n86': 'Columbia River'}</td>\n",
       "      <td>{'Q2251': 'Columbia River'}</td>\n",
       "    </tr>\n",
       "    <tr>\n",
       "      <th>...</th>\n",
       "      <td>...</td>\n",
       "      <td>...</td>\n",
       "      <td>...</td>\n",
       "      <td>...</td>\n",
       "      <td>...</td>\n",
       "      <td>...</td>\n",
       "    </tr>\n",
       "    <tr>\n",
       "      <th>1634</th>\n",
       "      <td>WebQTest-2020</td>\n",
       "      <td>what are the mountains in northern italy called?</td>\n",
       "      <td>what are the mountains in northern italy called</td>\n",
       "      <td>[{'ParseId': 'WebQTest-2020.P0', 'AnnotatorId'...</td>\n",
       "      <td>{'m.01cg88': 'Apennine Mountains'}</td>\n",
       "      <td>{'Q1285': 'Apennine Mountains'}</td>\n",
       "    </tr>\n",
       "    <tr>\n",
       "      <th>1635</th>\n",
       "      <td>WebQTest-2024</td>\n",
       "      <td>in which state was the battle of antietam fought?</td>\n",
       "      <td>in which state was the battle of antietam fought</td>\n",
       "      <td>[{'ParseId': 'WebQTest-2024.P0', 'AnnotatorId'...</td>\n",
       "      <td>{'m.0lkxb': 'Battle of Antietam'}</td>\n",
       "      <td>{'Q719252': 'Battle of Antietam'}</td>\n",
       "    </tr>\n",
       "    <tr>\n",
       "      <th>1636</th>\n",
       "      <td>WebQTest-2027</td>\n",
       "      <td>what team did david beckham play for before la...</td>\n",
       "      <td>what team did david beckham play for before la...</td>\n",
       "      <td>[{'ParseId': 'WebQTest-2027.P0', 'AnnotatorId'...</td>\n",
       "      <td>{'m.02d9k': 'David Beckham'}</td>\n",
       "      <td>{'Q10520': 'David Beckham'}</td>\n",
       "    </tr>\n",
       "    <tr>\n",
       "      <th>1637</th>\n",
       "      <td>WebQTest-2029</td>\n",
       "      <td>where was the palace of knossos located?</td>\n",
       "      <td>where was the palace of knossos located</td>\n",
       "      <td>[{'ParseId': 'WebQTest-2029.P0', 'AnnotatorId'...</td>\n",
       "      <td>{'m.0ksnn': 'Knossos'}</td>\n",
       "      <td>{'Q173527': 'Knossos'}</td>\n",
       "    </tr>\n",
       "    <tr>\n",
       "      <th>1638</th>\n",
       "      <td>WebQTest-2031</td>\n",
       "      <td>when was father chris riley born?</td>\n",
       "      <td>when was father chris riley born</td>\n",
       "      <td>[{'ParseId': 'WebQTest-2031.P0', 'AnnotatorId'...</td>\n",
       "      <td>{'m.03d8_d9': 'Chris Riley'}</td>\n",
       "      <td>{'Q5107872': 'Chris Riley'}</td>\n",
       "    </tr>\n",
       "  </tbody>\n",
       "</table>\n",
       "<p>1639 rows × 6 columns</p>\n",
       "</div>"
      ]
     },
     "execution_count": 70,
     "metadata": {},
     "output_type": "execute_result"
    }
   ],
   "execution_count": 70
  },
  {
   "metadata": {
    "ExecuteTime": {
     "end_time": "2025-04-19T06:23:32.537338Z",
     "start_time": "2025-04-19T06:23:27.750531Z"
    }
   },
   "cell_type": "code",
   "source": [
    "import pandas as pd\n",
    "\n",
    "# Read the JSON file\n",
    "df = pd.read_json('./data/creak.json')\n",
    "\n",
    "# Select first n rows\n",
    "# df_test = df.head(10)\n",
    "# df_test = df.iloc[79:]\n",
    "\n",
    "# Save to new JSON file\n",
    "# df_test.to_json('./data/cwq_test.json', orient='records', indent=4)\n",
    "# df_test\n",
    "df"
   ],
   "id": "d5cb951f4812d8db",
   "outputs": [
    {
     "data": {
      "text/plain": [
       "       ex_id                                           sentence  \\\n",
       "0   dev_1193                Black fly bites people in Michigan.   \n",
       "1   dev_1361  The Ten Commandments feature prominently in th...   \n",
       "2    dev_334  Benito Mussolini supported democracy for count...   \n",
       "3     dev_44         A highway connects the railroads together.   \n",
       "4   dev_1319        H. P. Lovecraft wrote the, Call of Cthulhu.   \n",
       "..       ...                                                ...   \n",
       "95  dev_1150  Celsius competes with Fahrenheit for the top m...   \n",
       "96  dev_1062  Richard Branson founded the space exploration ...   \n",
       "97    dev_24  Sam Cooke became a member of the rock n roll h...   \n",
       "98   dev_877  An Ocelot leaps and swims and is also a type o...   \n",
       "99  dev_1181     The aileron works with the help of the engine.   \n",
       "\n",
       "                                          explanation  label  \\\n",
       "0   Black fly is an insect that can be found in Mi...   true   \n",
       "1   The Ten Commandments are a popularly retold st...   true   \n",
       "2      Benito Mussolini was a dictator and a fascist.  false   \n",
       "3   Rural towns typically do not have a highway go...  false   \n",
       "4   The, \"Call of Cthulu\", is H. P. Lovecraft's mo...   true   \n",
       "..                                                ...    ...   \n",
       "95  The two leading temperature measurements are c...   true   \n",
       "96  Blue Origin is Jeff Bezos space venture. Brans...  false   \n",
       "97                            I know this to be true.   true   \n",
       "98           An Ocelot is a member ofn the cat family   true   \n",
       "99  The aileron is controlled by the steering whee...  false   \n",
       "\n",
       "              entity  en_wiki_pageid entity_mention_loc  \\\n",
       "0          Black fly         2422921           [[0, 9]]   \n",
       "1   Ten Commandments         2539671          [[4, 20]]   \n",
       "2   Benito Mussolini        19283178          [[0, 16]]   \n",
       "3            Highway           48519           [[2, 9]]   \n",
       "4    H. P. Lovecraft           13509          [[0, 15]]   \n",
       "..               ...             ...                ...   \n",
       "95           Celsius        19593040           [[0, 7]]   \n",
       "96   Richard Branson           93759          [[0, 15]]   \n",
       "97         Sam Cooke          147343           [[0, 9]]   \n",
       "98            Ocelot          268115           [[3, 9]]   \n",
       "99           Aileron           74634          [[4, 11]]   \n",
       "\n",
       "                  qid_topic_entity  \n",
       "0         {'Q720467': 'Black fly'}  \n",
       "1   {'Q34623': 'Ten Commandments'}  \n",
       "2   {'Q23559': 'Benito Mussolini'}  \n",
       "3           {'Q269949': 'Highway'}  \n",
       "4   {'Q169566': 'H. P. Lovecraft'}  \n",
       "..                             ...  \n",
       "95           {'Q25267': 'Celsius'}  \n",
       "96  {'Q194419': 'Richard Branson'}  \n",
       "97        {'Q295919': 'Sam Cooke'}  \n",
       "98            {'Q33261': 'Ocelot'}  \n",
       "99          {'Q509379': 'Aileron'}  \n",
       "\n",
       "[100 rows x 8 columns]"
      ],
      "text/html": [
       "<div>\n",
       "<style scoped>\n",
       "    .dataframe tbody tr th:only-of-type {\n",
       "        vertical-align: middle;\n",
       "    }\n",
       "\n",
       "    .dataframe tbody tr th {\n",
       "        vertical-align: top;\n",
       "    }\n",
       "\n",
       "    .dataframe thead th {\n",
       "        text-align: right;\n",
       "    }\n",
       "</style>\n",
       "<table border=\"1\" class=\"dataframe\">\n",
       "  <thead>\n",
       "    <tr style=\"text-align: right;\">\n",
       "      <th></th>\n",
       "      <th>ex_id</th>\n",
       "      <th>sentence</th>\n",
       "      <th>explanation</th>\n",
       "      <th>label</th>\n",
       "      <th>entity</th>\n",
       "      <th>en_wiki_pageid</th>\n",
       "      <th>entity_mention_loc</th>\n",
       "      <th>qid_topic_entity</th>\n",
       "    </tr>\n",
       "  </thead>\n",
       "  <tbody>\n",
       "    <tr>\n",
       "      <th>0</th>\n",
       "      <td>dev_1193</td>\n",
       "      <td>Black fly bites people in Michigan.</td>\n",
       "      <td>Black fly is an insect that can be found in Mi...</td>\n",
       "      <td>true</td>\n",
       "      <td>Black fly</td>\n",
       "      <td>2422921</td>\n",
       "      <td>[[0, 9]]</td>\n",
       "      <td>{'Q720467': 'Black fly'}</td>\n",
       "    </tr>\n",
       "    <tr>\n",
       "      <th>1</th>\n",
       "      <td>dev_1361</td>\n",
       "      <td>The Ten Commandments feature prominently in th...</td>\n",
       "      <td>The Ten Commandments are a popularly retold st...</td>\n",
       "      <td>true</td>\n",
       "      <td>Ten Commandments</td>\n",
       "      <td>2539671</td>\n",
       "      <td>[[4, 20]]</td>\n",
       "      <td>{'Q34623': 'Ten Commandments'}</td>\n",
       "    </tr>\n",
       "    <tr>\n",
       "      <th>2</th>\n",
       "      <td>dev_334</td>\n",
       "      <td>Benito Mussolini supported democracy for count...</td>\n",
       "      <td>Benito Mussolini was a dictator and a fascist.</td>\n",
       "      <td>false</td>\n",
       "      <td>Benito Mussolini</td>\n",
       "      <td>19283178</td>\n",
       "      <td>[[0, 16]]</td>\n",
       "      <td>{'Q23559': 'Benito Mussolini'}</td>\n",
       "    </tr>\n",
       "    <tr>\n",
       "      <th>3</th>\n",
       "      <td>dev_44</td>\n",
       "      <td>A highway connects the railroads together.</td>\n",
       "      <td>Rural towns typically do not have a highway go...</td>\n",
       "      <td>false</td>\n",
       "      <td>Highway</td>\n",
       "      <td>48519</td>\n",
       "      <td>[[2, 9]]</td>\n",
       "      <td>{'Q269949': 'Highway'}</td>\n",
       "    </tr>\n",
       "    <tr>\n",
       "      <th>4</th>\n",
       "      <td>dev_1319</td>\n",
       "      <td>H. P. Lovecraft wrote the, Call of Cthulhu.</td>\n",
       "      <td>The, \"Call of Cthulu\", is H. P. Lovecraft's mo...</td>\n",
       "      <td>true</td>\n",
       "      <td>H. P. Lovecraft</td>\n",
       "      <td>13509</td>\n",
       "      <td>[[0, 15]]</td>\n",
       "      <td>{'Q169566': 'H. P. Lovecraft'}</td>\n",
       "    </tr>\n",
       "    <tr>\n",
       "      <th>...</th>\n",
       "      <td>...</td>\n",
       "      <td>...</td>\n",
       "      <td>...</td>\n",
       "      <td>...</td>\n",
       "      <td>...</td>\n",
       "      <td>...</td>\n",
       "      <td>...</td>\n",
       "      <td>...</td>\n",
       "    </tr>\n",
       "    <tr>\n",
       "      <th>95</th>\n",
       "      <td>dev_1150</td>\n",
       "      <td>Celsius competes with Fahrenheit for the top m...</td>\n",
       "      <td>The two leading temperature measurements are c...</td>\n",
       "      <td>true</td>\n",
       "      <td>Celsius</td>\n",
       "      <td>19593040</td>\n",
       "      <td>[[0, 7]]</td>\n",
       "      <td>{'Q25267': 'Celsius'}</td>\n",
       "    </tr>\n",
       "    <tr>\n",
       "      <th>96</th>\n",
       "      <td>dev_1062</td>\n",
       "      <td>Richard Branson founded the space exploration ...</td>\n",
       "      <td>Blue Origin is Jeff Bezos space venture. Brans...</td>\n",
       "      <td>false</td>\n",
       "      <td>Richard Branson</td>\n",
       "      <td>93759</td>\n",
       "      <td>[[0, 15]]</td>\n",
       "      <td>{'Q194419': 'Richard Branson'}</td>\n",
       "    </tr>\n",
       "    <tr>\n",
       "      <th>97</th>\n",
       "      <td>dev_24</td>\n",
       "      <td>Sam Cooke became a member of the rock n roll h...</td>\n",
       "      <td>I know this to be true.</td>\n",
       "      <td>true</td>\n",
       "      <td>Sam Cooke</td>\n",
       "      <td>147343</td>\n",
       "      <td>[[0, 9]]</td>\n",
       "      <td>{'Q295919': 'Sam Cooke'}</td>\n",
       "    </tr>\n",
       "    <tr>\n",
       "      <th>98</th>\n",
       "      <td>dev_877</td>\n",
       "      <td>An Ocelot leaps and swims and is also a type o...</td>\n",
       "      <td>An Ocelot is a member ofn the cat family</td>\n",
       "      <td>true</td>\n",
       "      <td>Ocelot</td>\n",
       "      <td>268115</td>\n",
       "      <td>[[3, 9]]</td>\n",
       "      <td>{'Q33261': 'Ocelot'}</td>\n",
       "    </tr>\n",
       "    <tr>\n",
       "      <th>99</th>\n",
       "      <td>dev_1181</td>\n",
       "      <td>The aileron works with the help of the engine.</td>\n",
       "      <td>The aileron is controlled by the steering whee...</td>\n",
       "      <td>false</td>\n",
       "      <td>Aileron</td>\n",
       "      <td>74634</td>\n",
       "      <td>[[4, 11]]</td>\n",
       "      <td>{'Q509379': 'Aileron'}</td>\n",
       "    </tr>\n",
       "  </tbody>\n",
       "</table>\n",
       "<p>100 rows × 8 columns</p>\n",
       "</div>"
      ]
     },
     "execution_count": 1,
     "metadata": {},
     "output_type": "execute_result"
    }
   ],
   "execution_count": 1
  },
  {
   "metadata": {
    "ExecuteTime": {
     "end_time": "2025-04-06T16:56:07.283831Z",
     "start_time": "2025-04-06T16:56:07.062741Z"
    }
   },
   "cell_type": "code",
   "source": [
    "import json\n",
    "def jsonl_to_json(jsonl_file, json_file):\n",
    "    with open(jsonl_file, 'r') as infile:\n",
    "        with open(json_file, 'w') as outfile:\n",
    "            json_lines = infile.readlines()\n",
    "            json_list = [json.loads(line) for line in json_lines]\n",
    "            json.dump(json_list, outfile, indent=4)\n",
    "\n",
    "jsonl_to_json('./ToG/ToG_webquestions_test.jsonl', './ToG/ToG_webquestions_test.json')"
   ],
   "id": "774da37c5fdb8b59",
   "outputs": [],
   "execution_count": 39
  },
  {
   "metadata": {
    "ExecuteTime": {
     "end_time": "2025-04-08T05:22:13.077859Z",
     "start_time": "2025-04-08T05:22:13.057772Z"
    }
   },
   "cell_type": "code",
   "source": "",
   "id": "89ff1e0c2782bce3",
   "outputs": [],
   "execution_count": null
  },
  {
   "metadata": {
    "ExecuteTime": {
     "end_time": "2025-04-06T17:35:06.972123Z",
     "start_time": "2025-04-06T17:35:06.555115Z"
    }
   },
   "cell_type": "code",
   "source": [
    "from freebase_wikidata_convert.converter.entity_converter import EntityConverter\n",
    "\n",
    "def convert_entity_freebase_to_wikidata(id_string):\n",
    "    converter = EntityConverter(\"https://query.wikidata.org/sparql\")\n",
    "    wikidata_id = None\n",
    "    while wikidata_id is None:\n",
    "        wikidata_id = converter.get_wikidata_id(id_string)\n",
    "    return wikidata_id\n",
    "\n",
    "convert_entity_freebase_to_wikidata(\"/m/0gjz_x\")"
   ],
   "id": "dd80c61fb0d3c1d",
   "outputs": [
    {
     "data": {
      "text/plain": [
       "'Q42280'"
      ]
     },
     "execution_count": 94,
     "metadata": {},
     "output_type": "execute_result"
    }
   ],
   "execution_count": 94
  },
  {
   "metadata": {
    "ExecuteTime": {
     "end_time": "2025-04-06T17:35:12.098498Z",
     "start_time": "2025-04-06T17:35:12.085602Z"
    }
   },
   "cell_type": "code",
   "source": [
    "import re\n",
    "def convert_freebase_id(id_string):\n",
    "    # Convert the id to canonical form /m/alphanum\n",
    "\n",
    "    if not isinstance(id_string, str):\n",
    "        return None\n",
    "\n",
    "    pattern = r\"m[.\\/]?([a-zA-Z0-9]+)\"\n",
    "    match = re.search(pattern, id_string)\n",
    "\n",
    "    if match:\n",
    "        alphanum_chars = match.group(1)\n",
    "        return f\"/m/{alphanum_chars}\"\n",
    "    else:\n",
    "        return None\n",
    "\n",
    "convert_freebase_id(\"/m/04knq3\")"
   ],
   "id": "7ccc8666adea4936",
   "outputs": [
    {
     "data": {
      "text/plain": [
       "'/m/04knq3'"
      ]
     },
     "execution_count": 95,
     "metadata": {},
     "output_type": "execute_result"
    }
   ],
   "execution_count": 95
  },
  {
   "metadata": {
    "ExecuteTime": {
     "end_time": "2025-04-06T17:36:09.450030Z",
     "start_time": "2025-04-06T17:35:16.370894Z"
    }
   },
   "cell_type": "code",
   "source": [
    "import time\n",
    "\n",
    "simpleqa = pd.read_json('./data/SimpleQA.json')\n",
    "# simpleqa['topic_entity'].apply(lambda x:{convert_freebase_id((list(x.keys())[0])):(list(x.values())[0])})\n",
    "entities = simpleqa['topic_entity'].apply(lambda x:convert_freebase_id((list(x.keys())[0])))\n",
    "# for entity in freebase_entities:\n",
    "for i, entity in enumerate(entities):\n",
    "    entities[i] = convert_entity_freebase_to_wikidata(entity)\n",
    "    print(f\"Item {i+1}: {entity}\")\n",
    "    time.sleep(3)\n",
    "entities"
   ],
   "id": "949227c2327bf294",
   "outputs": [
    {
     "name": "stdout",
     "output_type": "stream",
     "text": [
      "Item 1: /m/02qkg8m\n",
      "Item 2: /m/04knq3\n"
     ]
    },
    {
     "ename": "KeyboardInterrupt",
     "evalue": "",
     "output_type": "error",
     "traceback": [
      "\u001B[31m---------------------------------------------------------------------------\u001B[39m",
      "\u001B[31mKeyboardInterrupt\u001B[39m                         Traceback (most recent call last)",
      "\u001B[36mCell\u001B[39m\u001B[36m \u001B[39m\u001B[32mIn[96]\u001B[39m\u001B[32m, line 8\u001B[39m\n\u001B[32m      6\u001B[39m \u001B[38;5;66;03m# for entity in freebase_entities:\u001B[39;00m\n\u001B[32m      7\u001B[39m \u001B[38;5;28;01mfor\u001B[39;00m i, entity \u001B[38;5;129;01min\u001B[39;00m \u001B[38;5;28menumerate\u001B[39m(entities):\n\u001B[32m----> \u001B[39m\u001B[32m8\u001B[39m     entities[i] = \u001B[43mconvert_entity_freebase_to_wikidata\u001B[49m\u001B[43m(\u001B[49m\u001B[43mentity\u001B[49m\u001B[43m)\u001B[49m\n\u001B[32m      9\u001B[39m     \u001B[38;5;28mprint\u001B[39m(\u001B[33mf\u001B[39m\u001B[33m\"\u001B[39m\u001B[33mItem \u001B[39m\u001B[38;5;132;01m{\u001B[39;00mi+\u001B[32m1\u001B[39m\u001B[38;5;132;01m}\u001B[39;00m\u001B[33m: \u001B[39m\u001B[38;5;132;01m{\u001B[39;00mentity\u001B[38;5;132;01m}\u001B[39;00m\u001B[33m\"\u001B[39m)\n\u001B[32m     10\u001B[39m     time.sleep(\u001B[32m3\u001B[39m)\n",
      "\u001B[36mCell\u001B[39m\u001B[36m \u001B[39m\u001B[32mIn[94]\u001B[39m\u001B[32m, line 7\u001B[39m, in \u001B[36mconvert_entity_freebase_to_wikidata\u001B[39m\u001B[34m(id_string)\u001B[39m\n\u001B[32m      5\u001B[39m wikidata_id = \u001B[38;5;28;01mNone\u001B[39;00m\n\u001B[32m      6\u001B[39m \u001B[38;5;28;01mwhile\u001B[39;00m wikidata_id \u001B[38;5;129;01mis\u001B[39;00m \u001B[38;5;28;01mNone\u001B[39;00m:\n\u001B[32m----> \u001B[39m\u001B[32m7\u001B[39m     wikidata_id = \u001B[43mconverter\u001B[49m\u001B[43m.\u001B[49m\u001B[43mget_wikidata_id\u001B[49m\u001B[43m(\u001B[49m\u001B[43mid_string\u001B[49m\u001B[43m)\u001B[49m\n\u001B[32m      8\u001B[39m \u001B[38;5;28;01mreturn\u001B[39;00m wikidata_id\n",
      "\u001B[36mFile \u001B[39m\u001B[32mC:\\Codes\\Experiments\\ToG\\freebase_wikidata_convert\\converter\\entity_converter.py:77\u001B[39m, in \u001B[36mEntityConverter.get_wikidata_id\u001B[39m\u001B[34m(self, entity, limit)\u001B[39m\n\u001B[32m     62\u001B[39m \u001B[38;5;250m\u001B[39m\u001B[33;03m\"\"\"Convert freebase id to wikidata id\u001B[39;00m\n\u001B[32m     63\u001B[39m \n\u001B[32m     64\u001B[39m \u001B[33;03mArgs:\u001B[39;00m\n\u001B[32m   (...)\u001B[39m\u001B[32m     69\u001B[39m \u001B[33;03m        If limit is greater than 1, return a list of wikidata ids.\u001B[39;00m\n\u001B[32m     70\u001B[39m \u001B[33;03m\"\"\"\u001B[39;00m\n\u001B[32m     71\u001B[39m query = \u001B[33mf\u001B[39m\u001B[33m\"\"\"\u001B[39m\n\u001B[32m     72\u001B[39m \u001B[33m    SELECT DISTINCT ?qid WHERE \u001B[39m\u001B[38;5;130;01m{{\u001B[39;00m\n\u001B[32m     73\u001B[39m \u001B[33m        ?qid wdt:P646 \u001B[39m\u001B[33m\"\u001B[39m\u001B[38;5;132;01m{\u001B[39;00mentity\u001B[38;5;132;01m}\u001B[39;00m\u001B[33m\"\u001B[39m\u001B[33m.\u001B[39m\n\u001B[32m     74\u001B[39m \u001B[33m    \u001B[39m\u001B[38;5;130;01m}}\u001B[39;00m\n\u001B[32m     75\u001B[39m \u001B[33m    LIMIT \u001B[39m\u001B[38;5;132;01m{\u001B[39;00mlimit\u001B[38;5;132;01m}\u001B[39;00m\n\u001B[32m     76\u001B[39m \u001B[33m    \u001B[39m\u001B[33m\"\"\"\u001B[39m\n\u001B[32m---> \u001B[39m\u001B[32m77\u001B[39m response = \u001B[38;5;28;43mself\u001B[39;49m\u001B[43m.\u001B[49m\u001B[43mquery_wikidata\u001B[49m\u001B[43m(\u001B[49m\u001B[43mquery\u001B[49m\u001B[43m)\u001B[49m\n\u001B[32m     78\u001B[39m \u001B[38;5;28;01mif\u001B[39;00m response \u001B[38;5;129;01mis\u001B[39;00m \u001B[38;5;28;01mNone\u001B[39;00m \u001B[38;5;129;01mor\u001B[39;00m \u001B[33m\"\u001B[39m\u001B[33mresults\u001B[39m\u001B[33m\"\u001B[39m \u001B[38;5;129;01mnot\u001B[39;00m \u001B[38;5;129;01min\u001B[39;00m response:\n\u001B[32m     79\u001B[39m     \u001B[38;5;28;01mreturn\u001B[39;00m \u001B[38;5;28;01mNone\u001B[39;00m\n",
      "\u001B[36mFile \u001B[39m\u001B[32mC:\\Codes\\Experiments\\ToG\\freebase_wikidata_convert\\converter\\entity_converter.py:25\u001B[39m, in \u001B[36mEntityConverter.query_wikidata\u001B[39m\u001B[34m(self, query)\u001B[39m\n\u001B[32m     23\u001B[39m \u001B[38;5;28mself\u001B[39m.sparql.setQuery(query)\n\u001B[32m     24\u001B[39m \u001B[38;5;28;01mtry\u001B[39;00m:\n\u001B[32m---> \u001B[39m\u001B[32m25\u001B[39m     ret = \u001B[38;5;28;43mself\u001B[39;49m\u001B[43m.\u001B[49m\u001B[43msparql\u001B[49m\u001B[43m.\u001B[49m\u001B[43mqueryAndConvert\u001B[49m\u001B[43m(\u001B[49m\u001B[43m)\u001B[49m\n\u001B[32m     26\u001B[39m     \u001B[38;5;28;01mreturn\u001B[39;00m ret\n\u001B[32m     27\u001B[39m \u001B[38;5;28;01mexcept\u001B[39;00m \u001B[38;5;167;01mException\u001B[39;00m \u001B[38;5;28;01mas\u001B[39;00m e:\n",
      "\u001B[36mFile \u001B[39m\u001B[32mC:\\Codes\\Experiments\\ToG\\venv\\Lib\\site-packages\\SPARQLWrapper\\Wrapper.py:967\u001B[39m, in \u001B[36mSPARQLWrapper.queryAndConvert\u001B[39m\u001B[34m(self)\u001B[39m\n\u001B[32m    962\u001B[39m \u001B[38;5;28;01mdef\u001B[39;00m\u001B[38;5;250m \u001B[39m\u001B[34mqueryAndConvert\u001B[39m(\u001B[38;5;28mself\u001B[39m) -> \u001B[33m\"\u001B[39m\u001B[33mQueryResult.ConvertResult\u001B[39m\u001B[33m\"\u001B[39m:\n\u001B[32m    963\u001B[39m \u001B[38;5;250m    \u001B[39m\u001B[33;03m\"\"\"Macro like method: issue a query and return the converted results.\u001B[39;00m\n\u001B[32m    964\u001B[39m \n\u001B[32m    965\u001B[39m \u001B[33;03m    :return: the converted query result. See the conversion methods for more details.\u001B[39;00m\n\u001B[32m    966\u001B[39m \u001B[33;03m    \"\"\"\u001B[39;00m\n\u001B[32m--> \u001B[39m\u001B[32m967\u001B[39m     res = \u001B[38;5;28;43mself\u001B[39;49m\u001B[43m.\u001B[49m\u001B[43mquery\u001B[49m\u001B[43m(\u001B[49m\u001B[43m)\u001B[49m\n\u001B[32m    968\u001B[39m     \u001B[38;5;28;01mreturn\u001B[39;00m res.convert()\n",
      "\u001B[36mFile \u001B[39m\u001B[32mC:\\Codes\\Experiments\\ToG\\venv\\Lib\\site-packages\\SPARQLWrapper\\Wrapper.py:960\u001B[39m, in \u001B[36mSPARQLWrapper.query\u001B[39m\u001B[34m(self)\u001B[39m\n\u001B[32m    942\u001B[39m \u001B[38;5;28;01mdef\u001B[39;00m\u001B[38;5;250m \u001B[39m\u001B[34mquery\u001B[39m(\u001B[38;5;28mself\u001B[39m) -> \u001B[33m\"\u001B[39m\u001B[33mQueryResult\u001B[39m\u001B[33m\"\u001B[39m:\n\u001B[32m    943\u001B[39m \u001B[38;5;250m    \u001B[39m\u001B[33;03m\"\"\"\u001B[39;00m\n\u001B[32m    944\u001B[39m \u001B[33;03m    Execute the query.\u001B[39;00m\n\u001B[32m    945\u001B[39m \u001B[33;03m    Exceptions can be raised if either the URI is wrong or the HTTP sends back an error (this is also the\u001B[39;00m\n\u001B[32m   (...)\u001B[39m\u001B[32m    958\u001B[39m \u001B[33;03m    :rtype: :class:`QueryResult` instance\u001B[39;00m\n\u001B[32m    959\u001B[39m \u001B[33;03m    \"\"\"\u001B[39;00m\n\u001B[32m--> \u001B[39m\u001B[32m960\u001B[39m     \u001B[38;5;28;01mreturn\u001B[39;00m QueryResult(\u001B[38;5;28;43mself\u001B[39;49m\u001B[43m.\u001B[49m\u001B[43m_query\u001B[49m\u001B[43m(\u001B[49m\u001B[43m)\u001B[49m)\n",
      "\u001B[36mFile \u001B[39m\u001B[32mC:\\Codes\\Experiments\\ToG\\venv\\Lib\\site-packages\\SPARQLWrapper\\Wrapper.py:926\u001B[39m, in \u001B[36mSPARQLWrapper._query\u001B[39m\u001B[34m(self)\u001B[39m\n\u001B[32m    924\u001B[39m         response = urlopener(request, timeout=\u001B[38;5;28mself\u001B[39m.timeout)\n\u001B[32m    925\u001B[39m     \u001B[38;5;28;01melse\u001B[39;00m:\n\u001B[32m--> \u001B[39m\u001B[32m926\u001B[39m         response = \u001B[43murlopener\u001B[49m\u001B[43m(\u001B[49m\u001B[43mrequest\u001B[49m\u001B[43m)\u001B[49m\n\u001B[32m    927\u001B[39m     \u001B[38;5;28;01mreturn\u001B[39;00m response, \u001B[38;5;28mself\u001B[39m.returnFormat\n\u001B[32m    928\u001B[39m \u001B[38;5;28;01mexcept\u001B[39;00m urllib.error.HTTPError \u001B[38;5;28;01mas\u001B[39;00m e:\n",
      "\u001B[36mFile \u001B[39m\u001B[32mC:\\Program Files\\Python311\\Lib\\urllib\\request.py:216\u001B[39m, in \u001B[36murlopen\u001B[39m\u001B[34m(url, data, timeout, cafile, capath, cadefault, context)\u001B[39m\n\u001B[32m    214\u001B[39m \u001B[38;5;28;01melse\u001B[39;00m:\n\u001B[32m    215\u001B[39m     opener = _opener\n\u001B[32m--> \u001B[39m\u001B[32m216\u001B[39m \u001B[38;5;28;01mreturn\u001B[39;00m \u001B[43mopener\u001B[49m\u001B[43m.\u001B[49m\u001B[43mopen\u001B[49m\u001B[43m(\u001B[49m\u001B[43murl\u001B[49m\u001B[43m,\u001B[49m\u001B[43m \u001B[49m\u001B[43mdata\u001B[49m\u001B[43m,\u001B[49m\u001B[43m \u001B[49m\u001B[43mtimeout\u001B[49m\u001B[43m)\u001B[49m\n",
      "\u001B[36mFile \u001B[39m\u001B[32mC:\\Program Files\\Python311\\Lib\\urllib\\request.py:519\u001B[39m, in \u001B[36mOpenerDirector.open\u001B[39m\u001B[34m(self, fullurl, data, timeout)\u001B[39m\n\u001B[32m    516\u001B[39m     req = meth(req)\n\u001B[32m    518\u001B[39m sys.audit(\u001B[33m'\u001B[39m\u001B[33murllib.Request\u001B[39m\u001B[33m'\u001B[39m, req.full_url, req.data, req.headers, req.get_method())\n\u001B[32m--> \u001B[39m\u001B[32m519\u001B[39m response = \u001B[38;5;28;43mself\u001B[39;49m\u001B[43m.\u001B[49m\u001B[43m_open\u001B[49m\u001B[43m(\u001B[49m\u001B[43mreq\u001B[49m\u001B[43m,\u001B[49m\u001B[43m \u001B[49m\u001B[43mdata\u001B[49m\u001B[43m)\u001B[49m\n\u001B[32m    521\u001B[39m \u001B[38;5;66;03m# post-process response\u001B[39;00m\n\u001B[32m    522\u001B[39m meth_name = protocol+\u001B[33m\"\u001B[39m\u001B[33m_response\u001B[39m\u001B[33m\"\u001B[39m\n",
      "\u001B[36mFile \u001B[39m\u001B[32mC:\\Program Files\\Python311\\Lib\\urllib\\request.py:536\u001B[39m, in \u001B[36mOpenerDirector._open\u001B[39m\u001B[34m(self, req, data)\u001B[39m\n\u001B[32m    533\u001B[39m     \u001B[38;5;28;01mreturn\u001B[39;00m result\n\u001B[32m    535\u001B[39m protocol = req.type\n\u001B[32m--> \u001B[39m\u001B[32m536\u001B[39m result = \u001B[38;5;28;43mself\u001B[39;49m\u001B[43m.\u001B[49m\u001B[43m_call_chain\u001B[49m\u001B[43m(\u001B[49m\u001B[38;5;28;43mself\u001B[39;49m\u001B[43m.\u001B[49m\u001B[43mhandle_open\u001B[49m\u001B[43m,\u001B[49m\u001B[43m \u001B[49m\u001B[43mprotocol\u001B[49m\u001B[43m,\u001B[49m\u001B[43m \u001B[49m\u001B[43mprotocol\u001B[49m\u001B[43m \u001B[49m\u001B[43m+\u001B[49m\n\u001B[32m    537\u001B[39m \u001B[43m                          \u001B[49m\u001B[33;43m'\u001B[39;49m\u001B[33;43m_open\u001B[39;49m\u001B[33;43m'\u001B[39;49m\u001B[43m,\u001B[49m\u001B[43m \u001B[49m\u001B[43mreq\u001B[49m\u001B[43m)\u001B[49m\n\u001B[32m    538\u001B[39m \u001B[38;5;28;01mif\u001B[39;00m result:\n\u001B[32m    539\u001B[39m     \u001B[38;5;28;01mreturn\u001B[39;00m result\n",
      "\u001B[36mFile \u001B[39m\u001B[32mC:\\Program Files\\Python311\\Lib\\urllib\\request.py:496\u001B[39m, in \u001B[36mOpenerDirector._call_chain\u001B[39m\u001B[34m(self, chain, kind, meth_name, *args)\u001B[39m\n\u001B[32m    494\u001B[39m \u001B[38;5;28;01mfor\u001B[39;00m handler \u001B[38;5;129;01min\u001B[39;00m handlers:\n\u001B[32m    495\u001B[39m     func = \u001B[38;5;28mgetattr\u001B[39m(handler, meth_name)\n\u001B[32m--> \u001B[39m\u001B[32m496\u001B[39m     result = \u001B[43mfunc\u001B[49m\u001B[43m(\u001B[49m\u001B[43m*\u001B[49m\u001B[43margs\u001B[49m\u001B[43m)\u001B[49m\n\u001B[32m    497\u001B[39m     \u001B[38;5;28;01mif\u001B[39;00m result \u001B[38;5;129;01mis\u001B[39;00m \u001B[38;5;129;01mnot\u001B[39;00m \u001B[38;5;28;01mNone\u001B[39;00m:\n\u001B[32m    498\u001B[39m         \u001B[38;5;28;01mreturn\u001B[39;00m result\n",
      "\u001B[36mFile \u001B[39m\u001B[32mC:\\Program Files\\Python311\\Lib\\urllib\\request.py:1391\u001B[39m, in \u001B[36mHTTPSHandler.https_open\u001B[39m\u001B[34m(self, req)\u001B[39m\n\u001B[32m   1390\u001B[39m \u001B[38;5;28;01mdef\u001B[39;00m\u001B[38;5;250m \u001B[39m\u001B[34mhttps_open\u001B[39m(\u001B[38;5;28mself\u001B[39m, req):\n\u001B[32m-> \u001B[39m\u001B[32m1391\u001B[39m     \u001B[38;5;28;01mreturn\u001B[39;00m \u001B[38;5;28;43mself\u001B[39;49m\u001B[43m.\u001B[49m\u001B[43mdo_open\u001B[49m\u001B[43m(\u001B[49m\u001B[43mhttp\u001B[49m\u001B[43m.\u001B[49m\u001B[43mclient\u001B[49m\u001B[43m.\u001B[49m\u001B[43mHTTPSConnection\u001B[49m\u001B[43m,\u001B[49m\u001B[43m \u001B[49m\u001B[43mreq\u001B[49m\u001B[43m,\u001B[49m\n\u001B[32m   1392\u001B[39m \u001B[43m        \u001B[49m\u001B[43mcontext\u001B[49m\u001B[43m=\u001B[49m\u001B[38;5;28;43mself\u001B[39;49m\u001B[43m.\u001B[49m\u001B[43m_context\u001B[49m\u001B[43m,\u001B[49m\u001B[43m \u001B[49m\u001B[43mcheck_hostname\u001B[49m\u001B[43m=\u001B[49m\u001B[38;5;28;43mself\u001B[39;49m\u001B[43m.\u001B[49m\u001B[43m_check_hostname\u001B[49m\u001B[43m)\u001B[49m\n",
      "\u001B[36mFile \u001B[39m\u001B[32mC:\\Program Files\\Python311\\Lib\\urllib\\request.py:1352\u001B[39m, in \u001B[36mAbstractHTTPHandler.do_open\u001B[39m\u001B[34m(self, http_class, req, **http_conn_args)\u001B[39m\n\u001B[32m   1350\u001B[39m     \u001B[38;5;28;01mexcept\u001B[39;00m \u001B[38;5;167;01mOSError\u001B[39;00m \u001B[38;5;28;01mas\u001B[39;00m err: \u001B[38;5;66;03m# timeout error\u001B[39;00m\n\u001B[32m   1351\u001B[39m         \u001B[38;5;28;01mraise\u001B[39;00m URLError(err)\n\u001B[32m-> \u001B[39m\u001B[32m1352\u001B[39m     r = \u001B[43mh\u001B[49m\u001B[43m.\u001B[49m\u001B[43mgetresponse\u001B[49m\u001B[43m(\u001B[49m\u001B[43m)\u001B[49m\n\u001B[32m   1353\u001B[39m \u001B[38;5;28;01mexcept\u001B[39;00m:\n\u001B[32m   1354\u001B[39m     h.close()\n",
      "\u001B[36mFile \u001B[39m\u001B[32mC:\\Program Files\\Python311\\Lib\\http\\client.py:1378\u001B[39m, in \u001B[36mHTTPConnection.getresponse\u001B[39m\u001B[34m(self)\u001B[39m\n\u001B[32m   1376\u001B[39m \u001B[38;5;28;01mtry\u001B[39;00m:\n\u001B[32m   1377\u001B[39m     \u001B[38;5;28;01mtry\u001B[39;00m:\n\u001B[32m-> \u001B[39m\u001B[32m1378\u001B[39m         \u001B[43mresponse\u001B[49m\u001B[43m.\u001B[49m\u001B[43mbegin\u001B[49m\u001B[43m(\u001B[49m\u001B[43m)\u001B[49m\n\u001B[32m   1379\u001B[39m     \u001B[38;5;28;01mexcept\u001B[39;00m \u001B[38;5;167;01mConnectionError\u001B[39;00m:\n\u001B[32m   1380\u001B[39m         \u001B[38;5;28mself\u001B[39m.close()\n",
      "\u001B[36mFile \u001B[39m\u001B[32mC:\\Program Files\\Python311\\Lib\\http\\client.py:318\u001B[39m, in \u001B[36mHTTPResponse.begin\u001B[39m\u001B[34m(self)\u001B[39m\n\u001B[32m    316\u001B[39m \u001B[38;5;66;03m# read until we get a non-100 response\u001B[39;00m\n\u001B[32m    317\u001B[39m \u001B[38;5;28;01mwhile\u001B[39;00m \u001B[38;5;28;01mTrue\u001B[39;00m:\n\u001B[32m--> \u001B[39m\u001B[32m318\u001B[39m     version, status, reason = \u001B[38;5;28;43mself\u001B[39;49m\u001B[43m.\u001B[49m\u001B[43m_read_status\u001B[49m\u001B[43m(\u001B[49m\u001B[43m)\u001B[49m\n\u001B[32m    319\u001B[39m     \u001B[38;5;28;01mif\u001B[39;00m status != CONTINUE:\n\u001B[32m    320\u001B[39m         \u001B[38;5;28;01mbreak\u001B[39;00m\n",
      "\u001B[36mFile \u001B[39m\u001B[32mC:\\Program Files\\Python311\\Lib\\http\\client.py:279\u001B[39m, in \u001B[36mHTTPResponse._read_status\u001B[39m\u001B[34m(self)\u001B[39m\n\u001B[32m    278\u001B[39m \u001B[38;5;28;01mdef\u001B[39;00m\u001B[38;5;250m \u001B[39m\u001B[34m_read_status\u001B[39m(\u001B[38;5;28mself\u001B[39m):\n\u001B[32m--> \u001B[39m\u001B[32m279\u001B[39m     line = \u001B[38;5;28mstr\u001B[39m(\u001B[38;5;28mself\u001B[39m.fp.readline(_MAXLINE + \u001B[32m1\u001B[39m), \u001B[33m\"\u001B[39m\u001B[33miso-8859-1\u001B[39m\u001B[33m\"\u001B[39m)\n\u001B[32m    280\u001B[39m     \u001B[38;5;28;01mif\u001B[39;00m \u001B[38;5;28mlen\u001B[39m(line) > _MAXLINE:\n\u001B[32m    281\u001B[39m         \u001B[38;5;28;01mraise\u001B[39;00m LineTooLong(\u001B[33m\"\u001B[39m\u001B[33mstatus line\u001B[39m\u001B[33m\"\u001B[39m)\n",
      "\u001B[36mFile \u001B[39m\u001B[32mC:\\Program Files\\Python311\\Lib\\socket.py:706\u001B[39m, in \u001B[36mSocketIO.readinto\u001B[39m\u001B[34m(self, b)\u001B[39m\n\u001B[32m    704\u001B[39m \u001B[38;5;28;01mwhile\u001B[39;00m \u001B[38;5;28;01mTrue\u001B[39;00m:\n\u001B[32m    705\u001B[39m     \u001B[38;5;28;01mtry\u001B[39;00m:\n\u001B[32m--> \u001B[39m\u001B[32m706\u001B[39m         \u001B[38;5;28;01mreturn\u001B[39;00m \u001B[38;5;28;43mself\u001B[39;49m\u001B[43m.\u001B[49m\u001B[43m_sock\u001B[49m\u001B[43m.\u001B[49m\u001B[43mrecv_into\u001B[49m\u001B[43m(\u001B[49m\u001B[43mb\u001B[49m\u001B[43m)\u001B[49m\n\u001B[32m    707\u001B[39m     \u001B[38;5;28;01mexcept\u001B[39;00m timeout:\n\u001B[32m    708\u001B[39m         \u001B[38;5;28mself\u001B[39m._timeout_occurred = \u001B[38;5;28;01mTrue\u001B[39;00m\n",
      "\u001B[36mFile \u001B[39m\u001B[32mC:\\Program Files\\Python311\\Lib\\ssl.py:1311\u001B[39m, in \u001B[36mSSLSocket.recv_into\u001B[39m\u001B[34m(self, buffer, nbytes, flags)\u001B[39m\n\u001B[32m   1307\u001B[39m     \u001B[38;5;28;01mif\u001B[39;00m flags != \u001B[32m0\u001B[39m:\n\u001B[32m   1308\u001B[39m         \u001B[38;5;28;01mraise\u001B[39;00m \u001B[38;5;167;01mValueError\u001B[39;00m(\n\u001B[32m   1309\u001B[39m           \u001B[33m\"\u001B[39m\u001B[33mnon-zero flags not allowed in calls to recv_into() on \u001B[39m\u001B[38;5;132;01m%s\u001B[39;00m\u001B[33m\"\u001B[39m %\n\u001B[32m   1310\u001B[39m           \u001B[38;5;28mself\u001B[39m.\u001B[34m__class__\u001B[39m)\n\u001B[32m-> \u001B[39m\u001B[32m1311\u001B[39m     \u001B[38;5;28;01mreturn\u001B[39;00m \u001B[38;5;28;43mself\u001B[39;49m\u001B[43m.\u001B[49m\u001B[43mread\u001B[49m\u001B[43m(\u001B[49m\u001B[43mnbytes\u001B[49m\u001B[43m,\u001B[49m\u001B[43m \u001B[49m\u001B[43mbuffer\u001B[49m\u001B[43m)\u001B[49m\n\u001B[32m   1312\u001B[39m \u001B[38;5;28;01melse\u001B[39;00m:\n\u001B[32m   1313\u001B[39m     \u001B[38;5;28;01mreturn\u001B[39;00m \u001B[38;5;28msuper\u001B[39m().recv_into(buffer, nbytes, flags)\n",
      "\u001B[36mFile \u001B[39m\u001B[32mC:\\Program Files\\Python311\\Lib\\ssl.py:1167\u001B[39m, in \u001B[36mSSLSocket.read\u001B[39m\u001B[34m(self, len, buffer)\u001B[39m\n\u001B[32m   1165\u001B[39m \u001B[38;5;28;01mtry\u001B[39;00m:\n\u001B[32m   1166\u001B[39m     \u001B[38;5;28;01mif\u001B[39;00m buffer \u001B[38;5;129;01mis\u001B[39;00m \u001B[38;5;129;01mnot\u001B[39;00m \u001B[38;5;28;01mNone\u001B[39;00m:\n\u001B[32m-> \u001B[39m\u001B[32m1167\u001B[39m         \u001B[38;5;28;01mreturn\u001B[39;00m \u001B[38;5;28;43mself\u001B[39;49m\u001B[43m.\u001B[49m\u001B[43m_sslobj\u001B[49m\u001B[43m.\u001B[49m\u001B[43mread\u001B[49m\u001B[43m(\u001B[49m\u001B[38;5;28;43mlen\u001B[39;49m\u001B[43m,\u001B[49m\u001B[43m \u001B[49m\u001B[43mbuffer\u001B[49m\u001B[43m)\u001B[49m\n\u001B[32m   1168\u001B[39m     \u001B[38;5;28;01melse\u001B[39;00m:\n\u001B[32m   1169\u001B[39m         \u001B[38;5;28;01mreturn\u001B[39;00m \u001B[38;5;28mself\u001B[39m._sslobj.read(\u001B[38;5;28mlen\u001B[39m)\n",
      "\u001B[31mKeyboardInterrupt\u001B[39m: "
     ]
    }
   ],
   "execution_count": 96
  },
  {
   "metadata": {
    "ExecuteTime": {
     "end_time": "2025-04-09T08:56:27.208520Z",
     "start_time": "2025-04-09T08:56:25.463140Z"
    }
   },
   "cell_type": "code",
   "source": "simpleqa.iloc[13:14]",
   "id": "a094dcabe32c9d12",
   "outputs": [
    {
     "ename": "NameError",
     "evalue": "name 'simpleqa' is not defined",
     "output_type": "error",
     "traceback": [
      "\u001B[31m---------------------------------------------------------------------------\u001B[39m",
      "\u001B[31mNameError\u001B[39m                                 Traceback (most recent call last)",
      "\u001B[36mCell\u001B[39m\u001B[36m \u001B[39m\u001B[32mIn[4]\u001B[39m\u001B[32m, line 1\u001B[39m\n\u001B[32m----> \u001B[39m\u001B[32m1\u001B[39m \u001B[43msimpleqa\u001B[49m.iloc[\u001B[32m13\u001B[39m:\u001B[32m14\u001B[39m]\n",
      "\u001B[31mNameError\u001B[39m: name 'simpleqa' is not defined"
     ]
    }
   ],
   "execution_count": 4
  },
  {
   "metadata": {
    "ExecuteTime": {
     "end_time": "2025-04-09T10:09:54.275847Z",
     "start_time": "2025-04-09T10:09:54.264491Z"
    }
   },
   "cell_type": "code",
   "source": [
    "a = {'key':'val'}\n",
    "b = {}\n",
    "a.update(b)\n",
    "print(a)"
   ],
   "id": "2789b3cb88ad3ff5",
   "outputs": [
    {
     "name": "stdout",
     "output_type": "stream",
     "text": [
      "{'key': 'val'}\n"
     ]
    }
   ],
   "execution_count": 14
  },
  {
   "metadata": {
    "ExecuteTime": {
     "end_time": "2025-04-10T13:33:02.751128Z",
     "start_time": "2025-04-10T13:32:49.318547Z"
    }
   },
   "cell_type": "code",
   "source": [
    "from openai import OpenAI\n",
    "client = OpenAI(\n",
    "    base_url=\"https://localhost/v1\",\n",
    "    api_key=\"token-abc123\",\n",
    ")\n",
    "messages = [\n",
    "    {'content': 'You are an AI assistant that helps people find information. Please follow the instructions.', 'role': 'system'},\n",
    "    {'content': '''Who are you?''', 'role': 'user'}\n",
    "]\n",
    "completion = client.chat.completions.create(\n",
    "  model=\"Qwen/Qwen2.5-7B-Instruct\",\n",
    "  # messages=[\n",
    "  #   {\"role\": \"user\", \"content\": \"Who are you?\"}\n",
    "  # ]\n",
    "  messages=messages,\n",
    "  # max_tokens=256\n",
    ")\n",
    "\n",
    "print(completion.choices[0].message)"
   ],
   "id": "1b513938d91f76f6",
   "outputs": [
    {
     "name": "stdout",
     "output_type": "stream",
     "text": [
      "ChatCompletionMessage(content=\"I am Qwen, a large language model created by Alibaba Cloud. I am here to help you with various tasks, answer your questions, or have conversations with you to the best of my abilities based on the knowledge and capabilities I've been trained on. How can I assist you today?\", refusal=None, role='assistant', annotations=None, audio=None, function_call=None, tool_calls=[], reasoning_content=None)\n"
     ]
    }
   ],
   "execution_count": 35
  },
  {
   "metadata": {
    "ExecuteTime": {
     "end_time": "2025-04-16T06:39:52.169493Z",
     "start_time": "2025-04-16T06:39:52.136356Z"
    }
   },
   "cell_type": "code",
   "source": "\"%.2f\" % 4",
   "id": "74aff73b135d6a1d",
   "outputs": [
    {
     "data": {
      "text/plain": [
       "'4.00'"
      ]
     },
     "execution_count": 87,
     "metadata": {},
     "output_type": "execute_result"
    }
   ],
   "execution_count": 87
  },
  {
   "metadata": {
    "ExecuteTime": {
     "end_time": "2025-05-14T08:08:44.035833Z",
     "start_time": "2025-05-14T08:08:27.481256Z"
    }
   },
   "cell_type": "code",
   "source": [
    "from openai import OpenAI\n",
    "client = OpenAI(\n",
    "    base_url=\"https://1yxsta5787de.share.zrok.io/v1\",\n",
    "    api_key=\"token-abc123\",\n",
    ")\n",
    "messages = [\n",
    "    {'content': 'You are an AI assistant that helps people find information. Please follow the instructions.', 'role': 'system'},\n",
    "    {'content': '''Explain the inequality between matter and antimatter''', 'role': 'user'}\n",
    "]\n",
    "completion = client.chat.completions.create(\n",
    "    model= \"Qwen/Qwen2.5-14B-Instruct-GPTQ-Int8\",\n",
    "  # model=\"Qwen/Qwen2.5-7B-Instruct\",\n",
    "  # messages=[\n",
    "  #   {\"role\": \"user\", \"content\": \"Who are you?\"}\n",
    "  # ]\n",
    "  messages=messages,\n",
    "  # max_tokens=256\n",
    "  # extra_headers={'localtonet-skip-warning':'localtonet-skip-warning'}\n",
    ")\n",
    "print(completion.choices[0].message)"
   ],
   "id": "b2ac2304a3c0a9d0",
   "outputs": [
    {
     "name": "stdout",
     "output_type": "stream",
     "text": [
      "ChatCompletionMessage(content='The inequality between matter and antimatter is a fundamental mystery in physics and cosmology, often referred to as the \"matter-antimatter asymmetry problem.\" Here\\'s a detailed explanation of this phenomenon:\\n\\n1. **Symmetry in Theory**: According to the Standard Model of particle physics, matter and antimatter should have been created in equal amounts during the Big Bang. This symmetry arises from the principles of quantum field theory and the conservation laws governing particle interactions.\\n\\n2. **Observational Discrepancy**: Despite the theoretical expectation, our universe appears to be overwhelmingly composed of matter. Antimatter particles are rarely found naturally, except for very short-lived antiparticles produced in high-energy collisions or cosmic rays.\\n\\n3. **Implications for Cosmology**: If the universe were composed of equal parts matter and antimatter, any contact between these components would result in their mutual annihilation, producing energy in the form of photons (light). This would lead to a universe devoid of complex structures like galaxies, stars, planets, and life as we know it.\\n\\n4. **Possible Explanations**:\\n   - **CP Violation**: The CP violation principle suggests that the laws of physics might not treat matter and antimatter symmetrically. However, the observed level of CP violation is too small to explain the current matter-antimatter imbalance.\\n   - **Baryon Asymmetry**: Scientists propose mechanisms like baryogenesis, which could generate an excess of matter over antimatter under specific conditions in the early universe.\\n   - **Primordial Nucleosynthesis**: During the first few minutes after the Big Bang, the slight excess of matter over antimatter could have been amplified through nuclear reactions.\\n\\n5. **Current Research**: Researchers are actively exploring various theories and conducting experiments to understand why there is more matter than antimatter. Experiments such as those at the Large Hadron Collider (LHC) aim to detect subtle differences in the behavior of matter and antimatter particles.\\n\\nIn summary, while the theoretical framework predicts equal amounts of matter and antimatter, observations show a significant imbalance. This discrepancy challenges our understanding of fundamental physics and continues to be an active area of research in particle physics and cosmology.', refusal=None, role='assistant', annotations=None, audio=None, function_call=None, tool_calls=[], reasoning_content=None)\n"
     ]
    }
   ],
   "execution_count": 7
  },
  {
   "metadata": {
    "ExecuteTime": {
     "end_time": "2025-05-14T06:39:38.412129Z",
     "start_time": "2025-05-14T06:39:37.590276Z"
    }
   },
   "cell_type": "code",
   "source": [
    "## Test get request to server\n",
    "\n",
    "import requests\n",
    "\n",
    "url = \"https://51i7y2yztjee.share.zrok.io\"\n",
    "\n",
    "response = requests.get(url)\n",
    "print(response.status_code)"
   ],
   "id": "4cc4c8c068d73182",
   "outputs": [
    {
     "name": "stdout",
     "output_type": "stream",
     "text": [
      "404\n"
     ]
    }
   ],
   "execution_count": 4
  }
 ],
 "metadata": {
  "kernelspec": {
   "display_name": "venv",
   "language": "python",
   "name": "python3"
  },
  "language_info": {
   "codemirror_mode": {
    "name": "ipython",
    "version": 3
   },
   "file_extension": ".py",
   "mimetype": "text/x-python",
   "name": "python",
   "nbconvert_exporter": "python",
   "pygments_lexer": "ipython3",
   "version": "3.11.5"
  }
 },
 "nbformat": 4,
 "nbformat_minor": 5
}
